{
 "cells": [
  {
   "cell_type": "markdown",
   "metadata": {},
   "source": [
    "# SAID \n",
    "### Back-end demo"
   ]
  },
  {
   "cell_type": "markdown",
   "metadata": {},
   "source": [
    "## Load the constituent data\n",
    "In the developed model, the constituent data is suspended-sediment concentration (SSC).\n",
    "This cell loads SSC observations from a tab-delimited text file, drops the sample method code, and displays the Pandas DataFrame containing the SSC observations."
   ]
  },
  {
   "cell_type": "code",
   "execution_count": 1,
   "metadata": {
    "scrolled": true
   },
   "outputs": [
    {
     "data": {
      "text/html": [
       "<div>\n",
       "<style scoped>\n",
       "    .dataframe tbody tr th:only-of-type {\n",
       "        vertical-align: middle;\n",
       "    }\n",
       "\n",
       "    .dataframe tbody tr th {\n",
       "        vertical-align: top;\n",
       "    }\n",
       "\n",
       "    .dataframe thead th {\n",
       "        text-align: right;\n",
       "    }\n",
       "</style>\n",
       "<table border=\"1\" class=\"dataframe\">\n",
       "  <thead>\n",
       "    <tr style=\"text-align: right;\">\n",
       "      <th></th>\n",
       "      <th>SSC</th>\n",
       "    </tr>\n",
       "    <tr>\n",
       "      <th>DateTime</th>\n",
       "      <th></th>\n",
       "    </tr>\n",
       "  </thead>\n",
       "  <tbody>\n",
       "    <tr>\n",
       "      <th>2013-02-07 13:00:00</th>\n",
       "      <td>299</td>\n",
       "    </tr>\n",
       "    <tr>\n",
       "      <th>2013-02-10 12:00:00</th>\n",
       "      <td>281</td>\n",
       "    </tr>\n",
       "    <tr>\n",
       "      <th>2013-02-13 10:30:00</th>\n",
       "      <td>756</td>\n",
       "    </tr>\n",
       "    <tr>\n",
       "      <th>2013-02-16 10:15:00</th>\n",
       "      <td>101</td>\n",
       "    </tr>\n",
       "    <tr>\n",
       "      <th>2013-02-19 12:00:00</th>\n",
       "      <td>85</td>\n",
       "    </tr>\n",
       "    <tr>\n",
       "      <th>2013-02-23 13:00:00</th>\n",
       "      <td>63</td>\n",
       "    </tr>\n",
       "    <tr>\n",
       "      <th>2013-02-27 13:00:00</th>\n",
       "      <td>49</td>\n",
       "    </tr>\n",
       "    <tr>\n",
       "      <th>2013-03-05 13:00:00</th>\n",
       "      <td>59</td>\n",
       "    </tr>\n",
       "    <tr>\n",
       "      <th>2013-03-08 16:00:00</th>\n",
       "      <td>50</td>\n",
       "    </tr>\n",
       "    <tr>\n",
       "      <th>2013-03-10 10:00:00</th>\n",
       "      <td>519</td>\n",
       "    </tr>\n",
       "    <tr>\n",
       "      <th>2013-03-10 19:00:00</th>\n",
       "      <td>1500</td>\n",
       "    </tr>\n",
       "    <tr>\n",
       "      <th>2013-03-11 10:30:00</th>\n",
       "      <td>1840</td>\n",
       "    </tr>\n",
       "    <tr>\n",
       "      <th>2013-03-11 18:00:00</th>\n",
       "      <td>1780</td>\n",
       "    </tr>\n",
       "    <tr>\n",
       "      <th>2013-03-12 07:30:00</th>\n",
       "      <td>842</td>\n",
       "    </tr>\n",
       "    <tr>\n",
       "      <th>2013-03-13 13:00:00</th>\n",
       "      <td>818</td>\n",
       "    </tr>\n",
       "    <tr>\n",
       "      <th>2013-03-14 09:45:00</th>\n",
       "      <td>560</td>\n",
       "    </tr>\n",
       "    <tr>\n",
       "      <th>2013-03-15 10:00:00</th>\n",
       "      <td>482</td>\n",
       "    </tr>\n",
       "    <tr>\n",
       "      <th>2013-03-15 19:00:00</th>\n",
       "      <td>1480</td>\n",
       "    </tr>\n",
       "    <tr>\n",
       "      <th>2013-03-16 10:00:00</th>\n",
       "      <td>489</td>\n",
       "    </tr>\n",
       "    <tr>\n",
       "      <th>2013-03-18 19:00:00</th>\n",
       "      <td>622</td>\n",
       "    </tr>\n",
       "    <tr>\n",
       "      <th>2013-03-20 11:00:00</th>\n",
       "      <td>223</td>\n",
       "    </tr>\n",
       "    <tr>\n",
       "      <th>2013-03-20 14:30:00</th>\n",
       "      <td>184</td>\n",
       "    </tr>\n",
       "    <tr>\n",
       "      <th>2013-03-23 12:00:00</th>\n",
       "      <td>243</td>\n",
       "    </tr>\n",
       "    <tr>\n",
       "      <th>2013-03-26 11:30:00</th>\n",
       "      <td>114</td>\n",
       "    </tr>\n",
       "    <tr>\n",
       "      <th>2013-04-02 13:30:00</th>\n",
       "      <td>106</td>\n",
       "    </tr>\n",
       "    <tr>\n",
       "      <th>2013-04-06 11:00:00</th>\n",
       "      <td>116</td>\n",
       "    </tr>\n",
       "    <tr>\n",
       "      <th>2013-04-10 15:20:00</th>\n",
       "      <td>328</td>\n",
       "    </tr>\n",
       "    <tr>\n",
       "      <th>2013-04-11 09:30:00</th>\n",
       "      <td>1210</td>\n",
       "    </tr>\n",
       "    <tr>\n",
       "      <th>2013-04-12 10:30:00</th>\n",
       "      <td>1360</td>\n",
       "    </tr>\n",
       "    <tr>\n",
       "      <th>2013-04-15 11:30:00</th>\n",
       "      <td>324</td>\n",
       "    </tr>\n",
       "    <tr>\n",
       "      <th>2013-04-17 08:00:00</th>\n",
       "      <td>299</td>\n",
       "    </tr>\n",
       "    <tr>\n",
       "      <th>2013-04-18 08:00:00</th>\n",
       "      <td>2770</td>\n",
       "    </tr>\n",
       "    <tr>\n",
       "      <th>2013-04-18 12:00:00</th>\n",
       "      <td>2170</td>\n",
       "    </tr>\n",
       "    <tr>\n",
       "      <th>2013-04-18 14:53:00</th>\n",
       "      <td>1850</td>\n",
       "    </tr>\n",
       "    <tr>\n",
       "      <th>2013-04-18 18:00:00</th>\n",
       "      <td>1660</td>\n",
       "    </tr>\n",
       "    <tr>\n",
       "      <th>2013-04-19 12:00:00</th>\n",
       "      <td>1550</td>\n",
       "    </tr>\n",
       "    <tr>\n",
       "      <th>2013-04-19 19:00:00</th>\n",
       "      <td>1510</td>\n",
       "    </tr>\n",
       "    <tr>\n",
       "      <th>2013-04-22 10:15:00</th>\n",
       "      <td>2810</td>\n",
       "    </tr>\n",
       "    <tr>\n",
       "      <th>2013-04-23 08:15:00</th>\n",
       "      <td>317</td>\n",
       "    </tr>\n",
       "    <tr>\n",
       "      <th>2013-04-24 09:30:00</th>\n",
       "      <td>406</td>\n",
       "    </tr>\n",
       "    <tr>\n",
       "      <th>2013-04-25 09:45:00</th>\n",
       "      <td>537</td>\n",
       "    </tr>\n",
       "    <tr>\n",
       "      <th>2013-04-26 18:25:00</th>\n",
       "      <td>408</td>\n",
       "    </tr>\n",
       "    <tr>\n",
       "      <th>2013-04-29 12:45:00</th>\n",
       "      <td>136</td>\n",
       "    </tr>\n",
       "    <tr>\n",
       "      <th>2013-04-30 10:00:00</th>\n",
       "      <td>222</td>\n",
       "    </tr>\n",
       "    <tr>\n",
       "      <th>2013-05-02 10:00:00</th>\n",
       "      <td>197</td>\n",
       "    </tr>\n",
       "    <tr>\n",
       "      <th>2013-05-03 18:15:00</th>\n",
       "      <td>1720</td>\n",
       "    </tr>\n",
       "    <tr>\n",
       "      <th>2013-05-04 08:30:00</th>\n",
       "      <td>1390</td>\n",
       "    </tr>\n",
       "    <tr>\n",
       "      <th>2013-05-05 12:00:00</th>\n",
       "      <td>776</td>\n",
       "    </tr>\n",
       "    <tr>\n",
       "      <th>2013-05-08 09:30:00</th>\n",
       "      <td>249</td>\n",
       "    </tr>\n",
       "    <tr>\n",
       "      <th>2013-05-10 13:00:00</th>\n",
       "      <td>208</td>\n",
       "    </tr>\n",
       "    <tr>\n",
       "      <th>2013-05-14 19:30:00</th>\n",
       "      <td>133</td>\n",
       "    </tr>\n",
       "    <tr>\n",
       "      <th>2013-05-17 09:05:00</th>\n",
       "      <td>140</td>\n",
       "    </tr>\n",
       "    <tr>\n",
       "      <th>2013-05-17 09:13:00</th>\n",
       "      <td>938</td>\n",
       "    </tr>\n",
       "    <tr>\n",
       "      <th>2013-05-17 09:20:00</th>\n",
       "      <td>142</td>\n",
       "    </tr>\n",
       "  </tbody>\n",
       "</table>\n",
       "</div>"
      ],
      "text/plain": [
       "                      SSC\n",
       "DateTime                 \n",
       "2013-02-07 13:00:00   299\n",
       "2013-02-10 12:00:00   281\n",
       "2013-02-13 10:30:00   756\n",
       "2013-02-16 10:15:00   101\n",
       "2013-02-19 12:00:00    85\n",
       "2013-02-23 13:00:00    63\n",
       "2013-02-27 13:00:00    49\n",
       "2013-03-05 13:00:00    59\n",
       "2013-03-08 16:00:00    50\n",
       "2013-03-10 10:00:00   519\n",
       "2013-03-10 19:00:00  1500\n",
       "2013-03-11 10:30:00  1840\n",
       "2013-03-11 18:00:00  1780\n",
       "2013-03-12 07:30:00   842\n",
       "2013-03-13 13:00:00   818\n",
       "2013-03-14 09:45:00   560\n",
       "2013-03-15 10:00:00   482\n",
       "2013-03-15 19:00:00  1480\n",
       "2013-03-16 10:00:00   489\n",
       "2013-03-18 19:00:00   622\n",
       "2013-03-20 11:00:00   223\n",
       "2013-03-20 14:30:00   184\n",
       "2013-03-23 12:00:00   243\n",
       "2013-03-26 11:30:00   114\n",
       "2013-04-02 13:30:00   106\n",
       "2013-04-06 11:00:00   116\n",
       "2013-04-10 15:20:00   328\n",
       "2013-04-11 09:30:00  1210\n",
       "2013-04-12 10:30:00  1360\n",
       "2013-04-15 11:30:00   324\n",
       "2013-04-17 08:00:00   299\n",
       "2013-04-18 08:00:00  2770\n",
       "2013-04-18 12:00:00  2170\n",
       "2013-04-18 14:53:00  1850\n",
       "2013-04-18 18:00:00  1660\n",
       "2013-04-19 12:00:00  1550\n",
       "2013-04-19 19:00:00  1510\n",
       "2013-04-22 10:15:00  2810\n",
       "2013-04-23 08:15:00   317\n",
       "2013-04-24 09:30:00   406\n",
       "2013-04-25 09:45:00   537\n",
       "2013-04-26 18:25:00   408\n",
       "2013-04-29 12:45:00   136\n",
       "2013-04-30 10:00:00   222\n",
       "2013-05-02 10:00:00   197\n",
       "2013-05-03 18:15:00  1720\n",
       "2013-05-04 08:30:00  1390\n",
       "2013-05-05 12:00:00   776\n",
       "2013-05-08 09:30:00   249\n",
       "2013-05-10 13:00:00   208\n",
       "2013-05-14 19:30:00   133\n",
       "2013-05-17 09:05:00   140\n",
       "2013-05-17 09:13:00   938\n",
       "2013-05-17 09:20:00   142"
      ]
     },
     "execution_count": 1,
     "metadata": {},
     "output_type": "execute_result"
    }
   ],
   "source": [
    "%matplotlib inline\n",
    "import os\n",
    "\n",
    "from linearmodel.datamanager import DataManager\n",
    "\n",
    "data_directory = r'.\\SpoonRiverAcoustics'\n",
    "\n",
    "# load constituent data (SSC)\n",
    "ssc_filename = r'spoonSSC.txt'\n",
    "scc_file_path = os.path.join(data_directory, ssc_filename)\n",
    "ssc_data = DataManager.read_tab_delimited_data(scc_file_path)\n",
    "\n",
    "# drop the sample method code\n",
    "ssc_data = ssc_data.drop_variables(['SampleMethod'])\n",
    "\n",
    "# show constituent dataset\n",
    "ssc_data.get_data()"
   ]
  },
  {
   "cell_type": "markdown",
   "metadata": {},
   "source": [
    "## Load the surrogate data\n",
    "The surrogate variable will ultimately be mean sediment corrected backscatter (MeanSCB). MeanSCB is calculated from raw acoustic backscatter data. The following cell loads the raw backscatter from two sets of Argonaut files and displays the raw data."
   ]
  },
  {
   "cell_type": "code",
   "execution_count": 2,
   "metadata": {},
   "outputs": [
    {
     "name": "stderr",
     "output_type": "stream",
     "text": [
      "C:\\Users\\marian\\Anaconda3\\envs\\said\\lib\\site-packages\\statsmodels\\compat\\pandas.py:56: FutureWarning: The pandas.core.datetools module is deprecated and will be removed in a future version. Please use the pandas.tseries module instead.\n",
      "  from pandas.core import datetools\n"
     ]
    },
    {
     "ename": "ImportError",
     "evalue": "cannot import name 'ArgonautRawBackscatterData'",
     "output_type": "error",
     "traceback": [
      "\u001b[1;31m---------------------------------------------------------------------------\u001b[0m",
      "\u001b[1;31mImportError\u001b[0m                               Traceback (most recent call last)",
      "\u001b[1;32m<ipython-input-2-27b456d18b09>\u001b[0m in \u001b[0;36m<module>\u001b[1;34m()\u001b[0m\n\u001b[0;32m      9\u001b[0m \u001b[1;33m\u001b[0m\u001b[0m\n\u001b[0;32m     10\u001b[0m \u001b[1;31m# get the acoustic backscatter data from the advm_data\u001b[0m\u001b[1;33m\u001b[0m\u001b[1;33m\u001b[0m\u001b[0m\n\u001b[1;32m---> 11\u001b[1;33m \u001b[1;32mfrom\u001b[0m \u001b[0msaid\u001b[0m\u001b[1;33m.\u001b[0m\u001b[0macoustic\u001b[0m \u001b[1;32mimport\u001b[0m \u001b[0mArgonautRawBackscatterData\u001b[0m\u001b[1;33m\u001b[0m\u001b[0m\n\u001b[0m\u001b[0;32m     12\u001b[0m \u001b[0mabs_data\u001b[0m \u001b[1;33m=\u001b[0m \u001b[0mArgonautRawBackscatterData\u001b[0m\u001b[1;33m.\u001b[0m\u001b[0mfrom_advm_data\u001b[0m\u001b[1;33m(\u001b[0m\u001b[0madvm_data\u001b[0m\u001b[1;33m)\u001b[0m\u001b[1;33m\u001b[0m\u001b[0m\n\u001b[0;32m     13\u001b[0m \u001b[1;33m\u001b[0m\u001b[0m\n",
      "\u001b[1;31mImportError\u001b[0m: cannot import name 'ArgonautRawBackscatterData'"
     ]
    }
   ],
   "source": [
    "from advmdata.sontek import ArgonautADVMData\n",
    "\n",
    "# load Argonaut data\n",
    "acoustic_filenames = ['SPOON001', 'SPOON002']\n",
    "advm_data = ArgonautADVMData.read_argonaut_data(data_directory, acoustic_filenames[0])\n",
    "for index in range(1, len(acoustic_filenames)):\n",
    "    tmp_advm_data = ArgonautADVMData.read_argonaut_data(data_directory, acoustic_filenames[index])\n",
    "    advm_data = advm_data.add_data(tmp_advm_data, keep_curr_obs=True)\n",
    "\n",
    "# get the acoustic backscatter data from the advm_data\n",
    "from said.acoustic import RawBackscatterData\n",
    "abs_data = RawBackscatterData.from_advm_data(advm_data)\n",
    "\n",
    "# show the contents of the raw data\n",
    "abs_data.get_data()"
   ]
  },
  {
   "cell_type": "markdown",
   "metadata": {},
   "source": [
    "## View the ADVM configuration parameters\n",
    "In addition to backscatter data, the ArgonautADVMData.read_argonaut_data() method also loads configuration parameters from the Argonaut data set. The next cell shows the configuration parameters that have been loaded from the data set."
   ]
  },
  {
   "cell_type": "code",
   "execution_count": null,
   "metadata": {},
   "outputs": [],
   "source": [
    "# show configuration parameters\n",
    "configuration_parameters = abs_data.get_configuration_parameters()\n",
    "configuration_parameters"
   ]
  },
  {
   "cell_type": "markdown",
   "metadata": {},
   "source": [
    "## Initialize ADVM backscatter data processing parameters\n",
    "In order to process the backscatter data, the processing class needs user defined processing parameters. The next cell creates and displays default processing parameters."
   ]
  },
  {
   "cell_type": "code",
   "execution_count": null,
   "metadata": {},
   "outputs": [],
   "source": [
    "# create processing parameters and show default parameter values\n",
    "from said.acoustic import ADVMProcParam\n",
    "processing_parameters = ADVMProcParam(configuration_parameters['Number of Cells'])\n",
    "processing_parameters"
   ]
  },
  {
   "cell_type": "markdown",
   "metadata": {},
   "source": [
    "## Create an instance of the backscatter processing class\n",
    "The ADVMBackscatterDataProcessor class handles the processing of backscatter data for calculating the acoustic parameters MeanSCB and sediment attenuation coefficient (SAC). The following cell initializes a processor instance using the default processing parameters and displays the results."
   ]
  },
  {
   "cell_type": "code",
   "execution_count": null,
   "metadata": {
    "scrolled": true
   },
   "outputs": [],
   "source": [
    "# create processor and show results using default processing parameters\n",
    "from said.acoustic import ADVMBackscatterDataProcessor\n",
    "abs_processor = ADVMBackscatterDataProcessor(abs_data, processing_parameters)\n",
    "abs_processor.get_acoustic_parameters().get_data()"
   ]
  },
  {
   "cell_type": "markdown",
   "metadata": {},
   "source": [
    "## Create a rating model\n",
    "In the next cell, a rating model is initialized with the following information.\n",
    "\n",
    "* Constituent variable: SSC\n",
    "* Surrogate varibale: MeanSCB\n",
    "* Match method: Mean, centered around constituent observation time\n",
    "* Mean time window width: 30 minutes\n",
    "\n",
    "A scatter plot, a model fit line and confidence intervals, is also shown."
   ]
  },
  {
   "cell_type": "code",
   "execution_count": null,
   "metadata": {
    "scrolled": true
   },
   "outputs": [],
   "source": [
    "# create a surrogate model using SSC as the constituent and MeanSCB as the surrogate\n",
    "from said.acoustic import BackscatterRatingModel\n",
    "rating_model = BackscatterRatingModel(ssc_data, abs_processor, \n",
    "                                      constituent_variable='SSC', \n",
    "                                      surrogate_variables=['MeanSCB'], \n",
    "                                      match_method='mean', \n",
    "                                      match_time=30)\n",
    "rating_model.plot()"
   ]
  },
  {
   "cell_type": "markdown",
   "metadata": {},
   "source": [
    "## View backscatter profile plots"
   ]
  },
  {
   "cell_type": "code",
   "execution_count": null,
   "metadata": {
    "scrolled": true
   },
   "outputs": [],
   "source": [
    "fig = rating_model.plot_backscatter_profiles()\n",
    "fig.set_size_inches(15, 10)"
   ]
  },
  {
   "cell_type": "markdown",
   "metadata": {},
   "source": [
    "## Change processing parameters\n",
    "As shown, the default processing parameters do not produce satisfactory results. The created linear model is unsatisfactory, and the backscatter profiles indicate a problem with the data. \n",
    "\n",
    "The next cell changes the processing parameters, recalculates the acoustic parameters, and shows the recalculated values."
   ]
  },
  {
   "cell_type": "code",
   "execution_count": null,
   "metadata": {
    "scrolled": true
   },
   "outputs": [],
   "source": [
    "# adjust processing parameters and recalculate acoustic parameters\n",
    "processing_parameters.update({'Backscatter Values': 'Amp',\n",
    "                              'Beam': 2,\n",
    "                              'WCB Profile Adjustment': True,\n",
    "                              'Near Field Correction': True})\n",
    "abs_processor.calculate_acoustic_parameters(processing_parameters)\n",
    "abs_processor.get_acoustic_parameters().get_data()"
   ]
  },
  {
   "cell_type": "markdown",
   "metadata": {},
   "source": [
    "## Recreate a rating model"
   ]
  },
  {
   "cell_type": "code",
   "execution_count": null,
   "metadata": {},
   "outputs": [],
   "source": [
    "rating_model = BackscatterRatingModel(ssc_data, abs_processor, \n",
    "                                      constituent_variable='SSC', \n",
    "                                      surrogate_variables=['MeanSCB'], \n",
    "                                      match_method='mean', \n",
    "                                      match_time=30)\n",
    "rating_model.plot()"
   ]
  },
  {
   "cell_type": "markdown",
   "metadata": {},
   "source": [
    "## Transform the constituent variable\n",
    "The plot above shows a non-linear trend. This can be corrected by log-transforming the constituent variable and bringing it in line with the physically-based and suggested form of the single-frequency sediment acoustic linear model, shown below.\n",
    "\n",
    "$$\\log_{10}{SSC}=\\beta_{0}+\\beta_{1}\\overline{SCB}+\\epsilon$$\n",
    "\n",
    "The following cell transforms the constituent variable and shows the plot of the linear model."
   ]
  },
  {
   "cell_type": "code",
   "execution_count": null,
   "metadata": {},
   "outputs": [],
   "source": [
    "# log10 transform SSC\n",
    "rating_model.set_constituent_transform('log10')\n",
    "rating_model.plot()"
   ]
  },
  {
   "cell_type": "markdown",
   "metadata": {},
   "source": [
    "## Remove outliers\n",
    "The next cell removes observations that have been determined to be outliers and shows a scatter plot of the linear regression model."
   ]
  },
  {
   "cell_type": "code",
   "execution_count": null,
   "metadata": {},
   "outputs": [],
   "source": [
    "# remove outliers\n",
    "model_index = rating_model.get_model_dataset().index\n",
    "rating_model.exclude_observations(model_index[[6, 19, 37, 52]])\n",
    "rating_model.plot()"
   ]
  },
  {
   "cell_type": "markdown",
   "metadata": {},
   "source": [
    "## Plot backscatter profiles"
   ]
  },
  {
   "cell_type": "code",
   "execution_count": null,
   "metadata": {
    "scrolled": false
   },
   "outputs": [],
   "source": [
    "fig = rating_model.plot_backscatter_profiles()\n",
    "fig.set_size_inches(15, 10)"
   ]
  },
  {
   "cell_type": "markdown",
   "metadata": {},
   "source": [
    "## Show diagnostic plots\n",
    "So far, the model is looking pretty good. The next cell creates a single figure with multiple sets of axes and plots some standard diagnostic plots to assess the quality of the regression. The Plots, from left to right and top to bottom are\n",
    "\n",
    "* Model scatter plot (transformed constituent variable)\n",
    "* Variable scatter plot (non-transformed constituent variable)\n",
    "* Model predicted versus observed plot (transformed constituent variable)\n",
    "* Variable predicted versus observed plot (non-transformed constituent variable)\n",
    "* Residual versus fitted plot\n",
    "* Residual probability plot\n",
    "* Standardized serial correlation coefficient plot\n",
    "* Residuals plotted against time"
   ]
  },
  {
   "cell_type": "code",
   "execution_count": null,
   "metadata": {},
   "outputs": [],
   "source": [
    "import matplotlib.pyplot as plt\n",
    "fig, ((ax1, ax2), (ax3, ax4), (ax5, ax6), (ax7, ax8)) = plt.subplots(nrows=4, ncols=2)\n",
    "rating_model.plot(ax=ax1)\n",
    "rating_model.plot('variable_scatter', ax=ax2)\n",
    "rating_model.plot('model_pred_vs_obs', ax=ax3)\n",
    "rating_model.plot('pred_vs_obs', ax=ax4)\n",
    "rating_model.plot('resid_vs_fitted', ax=ax5)\n",
    "rating_model.plot('resid_probability', ax=ax6)\n",
    "rating_model.plot('serial_correlation', ax=ax7)\n",
    "rating_model.plot('resid_vs_time', ax=ax8)\n",
    "fig.set_size_inches(15, 20)"
   ]
  },
  {
   "cell_type": "markdown",
   "metadata": {},
   "source": [
    "## Show a quantile plot\n",
    "The next cell shows a quantile plot of the surrogate observations from the entire time series that was loaded with model observation quantiles indicated."
   ]
  },
  {
   "cell_type": "code",
   "execution_count": null,
   "metadata": {},
   "outputs": [],
   "source": [
    "rating_model.plot('quantile')"
   ]
  },
  {
   "cell_type": "markdown",
   "metadata": {},
   "source": [
    "## Generate model archive report\n",
    "In the next cell, a report containing standard ordinary least square regression statistics is generated and displayed. The report itself can be saved to a CSV file."
   ]
  },
  {
   "cell_type": "code",
   "execution_count": null,
   "metadata": {},
   "outputs": [],
   "source": [
    "rating_model.get_model_report()"
   ]
  },
  {
   "cell_type": "markdown",
   "metadata": {},
   "source": [
    "## Show a predicted time series\n",
    "The cell below shows a time series of the predicted constituent using the loaded surrogate time series. The location of included model observations and excluded model observations is indicated. Missing observations would also be indicated if the model data set contained them. Also plotted is the 90% prediction interval."
   ]
  },
  {
   "cell_type": "code",
   "execution_count": null,
   "metadata": {},
   "outputs": [],
   "source": [
    "fig = plt.figure()\n",
    "fig.set_size_inches(20, 10)\n",
    "ax = fig.add_subplot(111)\n",
    "rating_model.plot('time series', ax)"
   ]
  }
 ],
 "metadata": {
  "anaconda-cloud": {},
  "kernelspec": {
   "display_name": "Python 3",
   "language": "python",
   "name": "python3"
  },
  "language_info": {
   "codemirror_mode": {
    "name": "ipython",
    "version": 3
   },
   "file_extension": ".py",
   "mimetype": "text/x-python",
   "name": "python",
   "nbconvert_exporter": "python",
   "pygments_lexer": "ipython3",
   "version": "3.6.4"
  }
 },
 "nbformat": 4,
 "nbformat_minor": 1
}
