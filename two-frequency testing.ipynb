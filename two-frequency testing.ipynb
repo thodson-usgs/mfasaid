{
 "cells": [
  {
   "cell_type": "code",
   "execution_count": 2,
   "metadata": {},
   "outputs": [
    {
     "name": "stderr",
     "output_type": "stream",
     "text": [
      "C:\\Users\\domanski\\AppData\\Local\\Continuum\\anaconda3\\lib\\site-packages\\statsmodels\\compat\\pandas.py:56: FutureWarning: The pandas.core.datetools module is deprecated and will be removed in a future version. Please use the pandas.tseries module instead.\n",
      "  from pandas.core import datetools\n"
     ]
    }
   ],
   "source": [
    "# load data from \n",
    "from advmdata.nortek import AquadoppADVMData\n",
    "\n",
    "data_directory = r'GCMRC data\\2018.02.22'\n",
    "dataset_name = 'AQD_225_2MHz_110217_121517.prf'\n",
    "aqd_advm_data = AquadoppADVMData.read_aquadopp_data(data_directory, dataset_name)\n",
    "\n",
    "from said.acoustic import RawBackscatterData\n",
    "\n",
    "abs_backscatter_data = RawBackscatterData.from_advm_data(aqd_advm_data)\n",
    "abs_data_df = abs_backscatter_data.get_data()"
   ]
  },
  {
   "cell_type": "code",
   "execution_count": 3,
   "metadata": {
    "scrolled": false
   },
   "outputs": [],
   "source": [
    "# load the MATLAB generated data\n",
    "import pandas as pd\n",
    "aqd_amp_vel_df = pd.read_table(r'GCMRC data\\2018.02.22\\225MileGC_2MHz_AQD_amp_vel_05-Mar-2018.txt', index_col=False)\n",
    "\n",
    "old_date_time_columns = [' Year ', ' Month ', ' Day ', ' Hour ', ' Min ', ' Sec ']\n",
    "date_time_columns = ['Year', 'Month', 'Day', 'Hour', 'Minute', 'Second']\n",
    "date_time_columns_map = dict(zip(old_date_time_columns, date_time_columns))\n",
    "\n",
    "amp_columns_map = dict([(' Counts{:1},{:1} '.format(beam, cell), 'Cell{:02}Amp{:1}'.format(cell, beam)) for cell in range(1, 51) for beam in range(1,3)])\n",
    "\n",
    "rename_columns_map = {' Temperature ': 'Temp'}\n",
    "rename_columns_map.update(date_time_columns_map)\n",
    "rename_columns_map.update(amp_columns_map)\n",
    "\n",
    "aqd_amp_vel_df.rename(columns=rename_columns_map, inplace=True)\n",
    "\n",
    "datetime_index = pd.to_datetime(aqd_amp_vel_df[date_time_columns])\n",
    "aqd_amp_vel_df.set_index(datetime_index, inplace=True)\n",
    "\n",
    "aqd_amp_vel_df = aqd_amp_vel_df.filter(regex=AquadoppADVMData._advm_columns_regex)\n",
    "\n",
    "aqd_amp_vel_df = aqd_amp_vel_df.iloc[(abs_data_df.index[0] <= aqd_amp_vel_df.index) & (aqd_amp_vel_df.index <= abs_data_df.index[-1])]"
   ]
  },
  {
   "cell_type": "code",
   "execution_count": 4,
   "metadata": {},
   "outputs": [
    {
     "data": {
      "text/plain": [
       "True"
      ]
     },
     "execution_count": 4,
     "metadata": {},
     "output_type": "execute_result"
    }
   ],
   "source": [
    "import numpy as np\n",
    "np.all(aqd_amp_vel_df.index.intersection(abs_data_df.index) == aqd_amp_vel_df.index.union(abs_data_df.index))"
   ]
  },
  {
   "cell_type": "code",
   "execution_count": 5,
   "metadata": {},
   "outputs": [
    {
     "data": {
      "text/plain": [
       "Index(['Temp', 'Cell01Amp1', 'Cell02Amp1', 'Cell03Amp1', 'Cell04Amp1',\n",
       "       'Cell05Amp1', 'Cell06Amp1', 'Cell07Amp1', 'Cell08Amp1', 'Cell09Amp1',\n",
       "       ...\n",
       "       'Cell41Amp2', 'Cell42Amp2', 'Cell43Amp2', 'Cell44Amp2', 'Cell45Amp2',\n",
       "       'Cell46Amp2', 'Cell47Amp2', 'Cell48Amp2', 'Cell49Amp2', 'Cell50Amp2'],\n",
       "      dtype='object', length=101)"
      ]
     },
     "execution_count": 5,
     "metadata": {},
     "output_type": "execute_result"
    }
   ],
   "source": [
    "columns_intersection = aqd_amp_vel_df.columns.intersection(abs_data_df.columns)\n",
    "columns_intersection"
   ]
  },
  {
   "cell_type": "code",
   "execution_count": 6,
   "metadata": {},
   "outputs": [
    {
     "data": {
      "text/plain": [
       "0.0"
      ]
     },
     "execution_count": 6,
     "metadata": {},
     "output_type": "execute_result"
    }
   ],
   "source": [
    "((aqd_amp_vel_df[columns_intersection] - abs_data_df[columns_intersection]).max()).max()"
   ]
  }
 ],
 "metadata": {
  "kernelspec": {
   "display_name": "Python 3",
   "language": "python",
   "name": "python3"
  },
  "language_info": {
   "codemirror_mode": {
    "name": "ipython",
    "version": 3
   },
   "file_extension": ".py",
   "mimetype": "text/x-python",
   "name": "python",
   "nbconvert_exporter": "python",
   "pygments_lexer": "ipython3",
   "version": "3.6.4"
  }
 },
 "nbformat": 4,
 "nbformat_minor": 2
}
